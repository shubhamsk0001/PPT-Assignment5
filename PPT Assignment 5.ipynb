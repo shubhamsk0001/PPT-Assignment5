{
 "cells": [
  {
   "cell_type": "code",
   "execution_count": null,
   "id": "1c77959d",
   "metadata": {},
   "outputs": [],
   "source": [
    "**Question 1**\n",
    "Convert 1D Array Into 2D Array\n",
    "\n",
    "You are given a **0-indexed** 1-dimensional (1D) integer array original, and two integers, m and n. You are tasked with \n",
    "creating a 2-dimensional (2D) array with  m rows and n columns using **all** the elements from original.\n",
    "\n",
    "The elements from indices 0 to n - 1 (**inclusive**) of original should form the first row of the constructed 2D array, \n",
    "the elements from indices n to 2 * n - 1 (**inclusive**) should form the second row of the constructed 2D array, and so on.\n",
    "\n",
    "Return *an* m x n *2D array constructed according to the above procedure, or an empty 2D array if it is impossible*.\n",
    "\n",
    "**Example 1:**\n",
    "\n",
    "**Input:** original = [1,2,3,4], m = 2, n = 2\n",
    "\n",
    "**Output:** [[1,2],[3,4]]\n",
    "\n",
    "**Explanation:** The constructed 2D array should contain 2 rows and 2 columns.\n",
    "\n",
    "The first group of n=2 elements in original, [1,2], becomes the first row in the constructed 2D array.\n",
    "\n",
    "The second group of n=2 elements in original, [3,4], becomes the second row in the constructed 2D array."
   ]
  },
  {
   "cell_type": "code",
   "execution_count": 1,
   "id": "2eeaa6ec",
   "metadata": {},
   "outputs": [
    {
     "name": "stdout",
     "output_type": "stream",
     "text": [
      "[[1, 2], [3, 4]]\n"
     ]
    }
   ],
   "source": [
    "    def construct2DArray(original, m, n):\n",
    "        if len(original)!=m*n:\n",
    "            return []\n",
    "        matrix=[]\n",
    "        for i in range(0,len(original),n):\n",
    "            matrix.append(original[i:i+n])\n",
    "        return matrix\n",
    "    print(construct2DArray([1,2,3,4],2,2))"
   ]
  },
  {
   "cell_type": "code",
   "execution_count": null,
   "id": "d5478a90",
   "metadata": {},
   "outputs": [],
   "source": [
    "**Question 2**\n",
    "You have n coins and you want to build a staircase with these coins. The staircase consists of k rows where the ith row \n",
    "has exactly i coins. The last row of the staircase **may be** incomplete.\n",
    "\n",
    "Given the integer n, return *the number of **complete rows** of the staircase you will build*.\n",
    "\n",
    "**Example 1:**\n",
    "**Input:** n = 5\n",
    "\n",
    "**Output:** 2\n",
    "\n",
    "**Explanation:** Because the 3rd row is incomplete, we return 2."
   ]
  },
  {
   "cell_type": "code",
   "execution_count": 2,
   "id": "80c06899",
   "metadata": {},
   "outputs": [
    {
     "name": "stdout",
     "output_type": "stream",
     "text": [
      "2\n"
     ]
    }
   ],
   "source": [
    "    def arrangeCoins(n):\n",
    "        coin_counter = 0\n",
    "        rows = 0\n",
    "        \n",
    "        if n == 1:\n",
    "            return 1\n",
    "\n",
    "        while coin_counter+(rows+1) <= n:\n",
    "            rows += 1\n",
    "            coin_counter = coin_counter + rows\n",
    "        \n",
    "        return rows\n",
    "    print(arrangeCoins(5))"
   ]
  },
  {
   "cell_type": "code",
   "execution_count": null,
   "id": "12dc2ae5",
   "metadata": {},
   "outputs": [],
   "source": [
    " **Question 3**\n",
    "Given an integer array nums sorted in **non-decreasing** order, return *an array of **the squares of each number** sorted \n",
    "in non-decreasing order*.\n",
    "\n",
    "**Example 1:**\n",
    "\n",
    "**Input:** nums = [-4,-1,0,3,10]\n",
    "\n",
    "**Output:** [0,1,9,16,100]\n",
    "\n",
    "**Explanation:** After squaring, the array becomes [16,1,0,9,100].\n",
    "\n",
    "After sorting, it becomes [0,1,9,16,100]."
   ]
  },
  {
   "cell_type": "code",
   "execution_count": 3,
   "id": "fbac6b66",
   "metadata": {},
   "outputs": [
    {
     "name": "stdout",
     "output_type": "stream",
     "text": [
      "[0, 1, 9, 16, 100]\n"
     ]
    }
   ],
   "source": [
    "    def sortedSquares(A):\n",
    "        for i in range(len(A)):\n",
    "            A[i] *= A[i]\n",
    "        A.sort()\n",
    "        return A\n",
    "    print(sortedSquares([-4,-1,0,3,10]))"
   ]
  },
  {
   "cell_type": "code",
   "execution_count": null,
   "id": "8ae73b70",
   "metadata": {},
   "outputs": [],
   "source": [
    "**Question 4**\n",
    "Given two **0-indexed** integer arrays nums1 and nums2, return *a list* answer *of size* 2 *where:*\n",
    "\n",
    "- answer[0] *is a list of all **distinct** integers in* nums1 *which are **not** present in* nums2*.*\n",
    "- answer[1] *is a list of all **distinct** integers in* nums2 *which are **not** present in* nums1.\n",
    "\n",
    "**Note** that the integers in the lists may be returned in **any** order.\n",
    "\n",
    "**Example 1:**\n",
    "\n",
    "**Input:** nums1 = [1,2,3], nums2 = [2,4,6]\n",
    "\n",
    "**Output:** [[1,3],[4,6]]\n",
    "\n",
    "**Explanation:**\n",
    "\n",
    "For nums1, nums1[1] = 2 is present at index 0 of nums2, whereas nums1[0] = 1 and nums1[2] = 3 are not present in nums2. \n",
    "Therefore, answer[0] = [1,3].\n",
    "\n",
    "For nums2, nums2[0] = 2 is present at index 1 of nums1, whereas nums2[1] = 4 and nums2[2] = 6 are not present in nums2. \n",
    "Therefore, answer[1] = [4,6].\n"
   ]
  },
  {
   "cell_type": "code",
   "execution_count": 5,
   "id": "ca872f3f",
   "metadata": {},
   "outputs": [
    {
     "name": "stdout",
     "output_type": "stream",
     "text": [
      "[[1, 3], [4, 6]]\n"
     ]
    }
   ],
   "source": [
    "    def findDifference(nums1,nums2):\n",
    "\n",
    "        # define set to store elements\n",
    "        s1 = set(nums1)\n",
    "        s2 = set(nums2)\n",
    "\n",
    "        # define output\n",
    "        out = [[],[]]\n",
    "\n",
    "        # adding the elements to output if not contains in the set\n",
    "        for i in s1:\n",
    "            if i not in s2:  \n",
    "                out[0].append(i)\n",
    "        for i in s2:\n",
    "            if i not in s1:\n",
    "                out[1].append(i)\n",
    "        \n",
    "        return out\n",
    "    print(findDifference([1,2,3],[2,4,6]))"
   ]
  },
  {
   "cell_type": "code",
   "execution_count": null,
   "id": "311270a0",
   "metadata": {},
   "outputs": [],
   "source": [
    "**Question 5**\n",
    "Given two integer arrays arr1 and arr2, and the integer d, *return the distance value between the two arrays*.\n",
    "\n",
    "The distance value is defined as the number of elements arr1[i] such that there is not any element arr2[j] where \n",
    "|arr1[i]-arr2[j]| <= d.\n",
    "\n",
    "**Example 1:**\n",
    "\n",
    "**Input:** arr1 = [4,5,8], arr2 = [10,9,1,8], d = 2\n",
    "\n",
    "**Output:** 2\n",
    "\n",
    "**Explanation:**\n",
    "\n",
    "For arr1[0]=4 we have:\n",
    "\n",
    "|4-10|=6 > d=2\n",
    "\n",
    "|4-9|=5 > d=2\n",
    "\n",
    "|4-1|=3 > d=2\n",
    "\n",
    "|4-8|=4 > d=2\n",
    "\n",
    "For arr1[1]=5 we have:\n",
    "\n",
    "|5-10|=5 > d=2\n",
    "\n",
    "|5-9|=4 > d=2\n",
    "\n",
    "|5-1|=4 > d=2\n",
    "\n",
    "|5-8|=3 > d=2\n",
    "\n",
    "For arr1[2]=8 we have:\n",
    "\n",
    "**|8-10|=2 <= d=2**\n",
    "\n",
    "**|8-9|=1 <= d=2**\n",
    "\n",
    "|8-1|=7 > d=2\n",
    "\n",
    "**|8-8|=0 <= d=2**"
   ]
  },
  {
   "cell_type": "code",
   "execution_count": 6,
   "id": "2a7430a1",
   "metadata": {},
   "outputs": [
    {
     "name": "stdout",
     "output_type": "stream",
     "text": [
      "2\n"
     ]
    }
   ],
   "source": [
    "    def findTheDistanceValue(arr1, arr2, d):\n",
    "        count=0\n",
    "        for i in arr1:\n",
    "            for j in arr2:\n",
    "                if abs(i-j)<=d:\n",
    "                    count+=1\n",
    "                    break\n",
    "        return len(arr1)-count\n",
    "    print(findTheDistanceValue([4,5,8],[10,9,1,8],2))"
   ]
  },
  {
   "cell_type": "code",
   "execution_count": null,
   "id": "60004466",
   "metadata": {},
   "outputs": [],
   "source": [
    " **Question 6**\n",
    "Given an integer array nums of length n where all the integers of nums are in the range [1, n] and each integer appears \n",
    "**once** or **twice**, return *an array of all the integers that appears **twice***.\n",
    "\n",
    "You must write an algorithm that runs in O(n) time and uses only constant extra space.\n",
    "\n",
    "**Example 1:**\n",
    "\n",
    "**Input:** nums = [4,3,2,7,8,2,3,1]\n",
    "\n",
    "**Output:**\n",
    "\n",
    "[2,3]"
   ]
  },
  {
   "cell_type": "code",
   "execution_count": 7,
   "id": "b7a727b8",
   "metadata": {},
   "outputs": [
    {
     "name": "stdout",
     "output_type": "stream",
     "text": [
      "[2, 3]\n"
     ]
    }
   ],
   "source": [
    "    def findDuplicates(nums):\n",
    "        ans = []\n",
    "        for i in range(len(nums)):\n",
    "            if nums[abs(nums[i])-1]>0:\n",
    "                nums[abs(nums[i])-1] = -nums[abs(nums[i])-1]\n",
    "            else:\n",
    "                ans.append(abs(nums[i]))\n",
    "        return ans\n",
    "    print(findDuplicates([4,3,2,7,8,2,3,1]))"
   ]
  },
  {
   "cell_type": "code",
   "execution_count": null,
   "id": "41bb783c",
   "metadata": {},
   "outputs": [],
   "source": [
    "**Question 7**\n",
    "\n",
    "Suppose an array of length n sorted in ascending order is **rotated** between 1 and n times. For example, the array \n",
    "nums = [0,1,2,4,5,6,7] might become:\n",
    "\n",
    "- [4,5,6,7,0,1,2] if it was rotated 4 times.\n",
    "- [0,1,2,4,5,6,7] if it was rotated 7 times.\n",
    "\n",
    "Notice that **rotating** an array [a[0], a[1], a[2], ..., a[n-1]] 1 time results in the array [a[n-1], a[0], a[1], a[2], \n",
    "..., a[n-2]].\n",
    "\n",
    "Given the sorted rotated array nums of **unique** elements, return *the minimum element of this array*.\n",
    "\n",
    "You must write an algorithm that runs in O(log n) time.\n",
    "\n",
    "**Example 1:**\n",
    "\n",
    "**Input:** nums = [3,4,5,1,2]\n",
    "\n",
    "**Output:** 1\n",
    "\n",
    "**Explanation:**\n",
    "\n",
    "The original array was [1,2,3,4,5] rotated 3 times."
   ]
  },
  {
   "cell_type": "code",
   "execution_count": 8,
   "id": "8b50762f",
   "metadata": {},
   "outputs": [
    {
     "name": "stdout",
     "output_type": "stream",
     "text": [
      "1\n"
     ]
    }
   ],
   "source": [
    "    def findMin(nums):\n",
    "        low=0\n",
    "        high=len(nums)-1\n",
    "        res=nums[0]\n",
    "        while low<=high:\n",
    "            if nums[low]<nums[high]:\n",
    "                res=min(res,nums[low])\n",
    "                break\n",
    "            mid=(low+high)//2\n",
    "            res=min(res,nums[mid])\n",
    "            if nums[mid]>=nums[low]:\n",
    "                low=mid+1\n",
    "            else:\n",
    "                high=mid-1\n",
    "        return res\n",
    "    print(findMin([3,4,5,1,2]))"
   ]
  },
  {
   "cell_type": "code",
   "execution_count": null,
   "id": "6bf6389d",
   "metadata": {},
   "outputs": [],
   "source": [
    "**Question 8**\n",
    "An integer array original is transformed into a **doubled** array changed by appending **twice the value** of every element\n",
    "in original, and then randomly **shuffling** the resulting array.\n",
    "\n",
    "Given an array changed, return original *if* changed *is a **doubled** array. If* changed *is not a **doubled** array, \n",
    "return an empty array. The elements in* original *may be returned in **any** order*.\n",
    "\n",
    "**Example 1:**\n",
    "\n",
    "**Input:** changed = [1,3,4,2,6,8]\n",
    "\n",
    "**Output:** [1,3,4]\n",
    "\n",
    "**Explanation:** One possible original array could be [1,3,4]:\n",
    "\n",
    "- Twice the value of 1 is 1 * 2 = 2.\n",
    "- Twice the value of 3 is 3 * 2 = 6.\n",
    "- Twice the value of 4 is 4 * 2 = 8.\n",
    "\n",
    "Other original arrays could be [4,3,1] or [3,1,4]"
   ]
  },
  {
   "cell_type": "code",
   "execution_count": 16,
   "id": "72b2d0e8",
   "metadata": {},
   "outputs": [
    {
     "name": "stdout",
     "output_type": "stream",
     "text": [
      "None\n"
     ]
    }
   ],
   "source": [
    "from collections import Counter\n",
    "def findOriginalArray(changed) :\n",
    "    changed.sort()\n",
    "    nz=changed.count(0)\n",
    "    if nz%2==1:\n",
    "        return []\n",
    "    changed=changed[nz:]\n",
    "    if len(changed)%2==1:\n",
    "        return []\n",
    "    cnt=Counter(changed)\n",
    "    flst=[]\n",
    "print(findOriginalArray([1,3,4,2,6,8]))"
   ]
  }
 ],
 "metadata": {
  "kernelspec": {
   "display_name": "Python 3 (ipykernel)",
   "language": "python",
   "name": "python3"
  },
  "language_info": {
   "codemirror_mode": {
    "name": "ipython",
    "version": 3
   },
   "file_extension": ".py",
   "mimetype": "text/x-python",
   "name": "python",
   "nbconvert_exporter": "python",
   "pygments_lexer": "ipython3",
   "version": "3.9.12"
  }
 },
 "nbformat": 4,
 "nbformat_minor": 5
}
